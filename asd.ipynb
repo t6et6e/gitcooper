model = models.Sequential()
model.add(layers.Conv2D(32, (3, 3), activation='relu', input_shape=(28, 28, 1)))
model.add(layers.MaxPooling2D((2, 2)))
model.add(layers.Flatten())
model.add(layers.Dense(10, activation='softmax'))

learning_rate_1 = 0.01
optimizer_1 = SGD(learning_rate_1)
model.compile(optimizer=optimizer_1, loss='categorical_crossentropy', metrics=['accuracy'])
